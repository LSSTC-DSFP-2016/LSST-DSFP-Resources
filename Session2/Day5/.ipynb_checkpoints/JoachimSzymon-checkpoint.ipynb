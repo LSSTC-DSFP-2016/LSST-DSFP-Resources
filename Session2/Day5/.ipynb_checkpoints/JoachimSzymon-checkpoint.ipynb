{
 "cells": [
  {
   "cell_type": "code",
   "execution_count": 1,
   "metadata": {
    "collapsed": true,
    "slideshow": {
     "slide_type": "skip"
    }
   },
   "outputs": [],
   "source": [
    "from __future__ import division, print_function, absolute_import"
   ]
  },
  {
   "cell_type": "markdown",
   "metadata": {
    "slideshow": {
     "slide_type": "skip"
    }
   },
   "source": [
    "#Session 2 Final Presentations:\n",
    "Summary of machine learning and an improvement on `scikit-learn`\n",
    "========\n",
    "\n",
    "#####Version 0.1\n",
    "\n",
    "This notebook contains the [final project](https://github.com/LSSTC-DSFP/LSSTC-DSFP-Sessions/blob/master/Session2/Day1/comm_viz_assignment.md) from Session 2 of the LSSTC DSFP.\n",
    "***\n",
    "By the LSSTC DSFP Fellows"
   ]
  },
  {
   "cell_type": "markdown",
   "metadata": {
    "slideshow": {
     "slide_type": "skip"
    }
   },
   "source": [
    "To test the slides on your local machine you need to run the following: \n",
    "\n",
    "    ipython nbconvert Session2FinalProject.ipynb --to slides --post serve"
   ]
  },
  {
   "cell_type": "markdown",
   "metadata": {
    "collapsed": true,
    "slideshow": {
     "slide_type": "slide"
    }
   },
   "source": [
    "# t-SNE: t-Distributed Stochastic Neighbor Embedding\n",
    "\n",
    "### Joachim Moeyens & Szymon Prajs"
   ]
  },
  {
   "cell_type": "markdown",
   "metadata": {
    "slideshow": {
     "slide_type": "slide"
    }
   },
   "source": [
    "### What is t-SNE?\n",
    "- Unsupervised manifold learning or more simply nonlinear dimensionality reduction\n",
    "- Or **even** more simply ... magic!"
   ]
  },
  {
   "cell_type": "code",
   "execution_count": 2,
   "metadata": {
    "collapsed": true,
    "slideshow": {
     "slide_type": "slide"
    }
   },
   "outputs": [],
   "source": [
    "from sklearn import datasets\n",
    "\n",
    "digits = datasets.load_digits(n_class=6)"
   ]
  },
  {
   "cell_type": "markdown",
   "metadata": {
    "slideshow": {
     "slide_type": "fragment"
    }
   },
   "source": [
    "![digits](jmsp/digits.png)"
   ]
  },
  {
   "cell_type": "code",
   "execution_count": 3,
   "metadata": {
    "collapsed": true,
    "slideshow": {
     "slide_type": "slide"
    }
   },
   "outputs": [],
   "source": [
    "from sklearn import random_projection\n",
    "\n",
    "srp = random_projection.SparseRandomProjection(n_components=2)\n",
    "X_projected = srp.fit_transform(digits.data)"
   ]
  },
  {
   "cell_type": "markdown",
   "metadata": {
    "slideshow": {
     "slide_type": "fragment"
    }
   },
   "source": [
    "![random](jmsp/random.png)"
   ]
  },
  {
   "cell_type": "code",
   "execution_count": 4,
   "metadata": {
    "collapsed": true,
    "slideshow": {
     "slide_type": "slide"
    }
   },
   "outputs": [],
   "source": [
    "from sklearn import decomposition\n",
    "\n",
    "pca = decomposition.PCA(n_components=2)\n",
    "X_pca = pca.fit_transform(digits.data)"
   ]
  },
  {
   "cell_type": "markdown",
   "metadata": {
    "slideshow": {
     "slide_type": "fragment"
    }
   },
   "source": [
    "![pca](jmsp/pca.png)"
   ]
  },
  {
   "cell_type": "markdown",
   "metadata": {
    "slideshow": {
     "slide_type": "slide"
    }
   },
   "source": [
    "The (simplified) algorithm:\n",
    "- Find high D probabilities:\n",
    "    - pairs of points with small seperation are given high probabilities, pairs of points with large seperation are given small probabilites\n",
    "- Find low D probabilities: \n",
    "    - reduce the dimensionality of the dataset and now repeat finding the probabilites of correlation between pairs of points\n",
    "- Compare high D probabilities and low D probabilites and minimize the probability difference between pairs of points\n",
    "    - a.k.a. minimizing the Kullback-Leibler divergence\n",
    "    \n",
    "More details: [GoogleTalk: Visualizing Data Using t-SNE: van der Maaten (2013)](https://www.youtube.com/watch?v=RJVL80Gg3lA)"
   ]
  },
  {
   "cell_type": "markdown",
   "metadata": {
    "slideshow": {
     "slide_type": "slide"
    }
   },
   "source": [
    "![dreduction](jmsp/dreduction.png)"
   ]
  },
  {
   "cell_type": "code",
   "execution_count": 5,
   "metadata": {
    "collapsed": true,
    "slideshow": {
     "slide_type": "slide"
    }
   },
   "outputs": [],
   "source": [
    "from sklearn import manifold\n",
    "\n",
    "tsne = manifold.TSNE(n_components=2)\n",
    "X_tsne = tsne.fit_transform(digits.data)"
   ]
  },
  {
   "cell_type": "markdown",
   "metadata": {
    "slideshow": {
     "slide_type": "fragment"
    }
   },
   "source": [
    "![tsne](jmsp/tsne.png)"
   ]
  },
  {
   "cell_type": "code",
   "execution_count": 6,
   "metadata": {
    "collapsed": true,
    "slideshow": {
     "slide_type": "slide"
    }
   },
   "outputs": [],
   "source": [
    "from sklearn import manifold\n",
    "\n",
    "tsne = manifold.TSNE(n_components=2, init=\"pca\")\n",
    "X_tsne = tsne.fit_transform(digits.data)"
   ]
  },
  {
   "cell_type": "markdown",
   "metadata": {
    "slideshow": {
     "slide_type": "fragment"
    }
   },
   "source": [
    "![tsne-pca](jmsp/tsne-pca.png)"
   ]
  },
  {
   "cell_type": "markdown",
   "metadata": {
    "slideshow": {
     "slide_type": "slide"
    }
   },
   "source": [
    "## Questions?\n",
    "\n",
    "\n",
    "#### Resources:\n",
    "- [Scikit-Learn Documenation](http://scikit-learn.org/stable/auto_examples/manifold/plot_lle_digits.html#sphx-glr-auto-examples-manifold-plot-lle-digits-py)\n",
    "- [Visualizing Data Using t-SNE: van der Maaten & Hinton (2008)](http://www.cs.toronto.edu/~hinton/absps/tsne.pdf)\n",
    "- [GoogleTalk: Visualizing Data Using t-SNE: van der Maaten (2013)](https://www.youtube.com/watch?v=RJVL80Gg3lA)"
   ]
  }
 ],
 "metadata": {
  "anaconda-cloud": {},
  "celltoolbar": "Slideshow",
  "kernelspec": {
   "display_name": "Python [default]",
   "language": "python",
   "name": "python3"
  },
  "language_info": {
   "codemirror_mode": {
    "name": "ipython",
    "version": 3
   },
   "file_extension": ".py",
   "mimetype": "text/x-python",
   "name": "python",
   "nbconvert_exporter": "python",
   "pygments_lexer": "ipython3",
   "version": "3.5.2"
  }
 },
 "nbformat": 4,
 "nbformat_minor": 0
}
