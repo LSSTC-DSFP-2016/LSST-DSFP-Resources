{
 "cells": [
  {
   "cell_type": "code",
   "execution_count": 2,
   "id": "d3197b78",
   "metadata": {
    "slideshow": {
     "slide_type": "skip"
    }
   },
   "outputs": [],
   "source": [
    "import numpy as np\n",
    "import pandas as pd\n",
    "import matplotlib.pyplot as plt\n",
    "\n",
    "%matplotlib notebook"
   ]
  },
  {
   "cell_type": "markdown",
   "id": "41cd95a9",
   "metadata": {
    "slideshow": {
     "slide_type": "slide"
    }
   },
   "source": [
    "# Introduction to Data Storage\n",
    "\n",
    "##### Version 0.1\n",
    "\n",
    "***\n",
    "\n",
    "By AA Miller (Northwestern/CIERA)  \n",
    "15 July 2022"
   ]
  },
  {
   "cell_type": "markdown",
   "id": "6da5aecb",
   "metadata": {
    "slideshow": {
     "slide_type": "slide"
    }
   },
   "source": [
    "[Session 15](https://github.com/LSSTC-DSFP/LSSTC-DSFP-Sessions/tree/main/Sessions/Session15) is primarily concerned with handling our data with efficiency.\n",
    "\n",
    "Ideally, for any and every task we want to devire solutions that operate *faster*. "
   ]
  },
  {
   "cell_type": "markdown",
   "id": "365aba81",
   "metadata": {
    "slideshow": {
     "slide_type": "slide"
    }
   },
   "source": [
    "This can be accomplished many different ways:"
   ]
  },
  {
   "cell_type": "markdown",
   "id": "ff847fa4",
   "metadata": {
    "slideshow": {
     "slide_type": "fragment"
    }
   },
   "source": [
    "$~~~~~~$build algorithms that execute faster"
   ]
  },
  {
   "cell_type": "markdown",
   "id": "463c7bde",
   "metadata": {
    "slideshow": {
     "slide_type": "fragment"
    }
   },
   "source": [
    "$~~~~~~$spread calculations over many different computers simultaneously"
   ]
  },
  {
   "cell_type": "markdown",
   "id": "9acb12a2",
   "metadata": {
    "slideshow": {
     "slide_type": "fragment"
    }
   },
   "source": [
    "$~~~~~~$find a compact storage solution for the data so it can be accessed more quickly"
   ]
  },
  {
   "cell_type": "markdown",
   "id": "9e64ba9d",
   "metadata": {
    "slideshow": {
     "slide_type": "slide"
    }
   },
   "source": [
    "In our introduction to this session we will start with data storage, and discuss fast algorithms as a challenge problem. "
   ]
  },
  {
   "cell_type": "markdown",
   "id": "82fdb8d7",
   "metadata": {
    "slideshow": {
     "slide_type": "slide"
    }
   },
   "source": [
    "## Problem 1) IMDb Data"
   ]
  },
  {
   "cell_type": "markdown",
   "id": "04689f26",
   "metadata": {
    "slideshow": {
     "slide_type": "slide"
    }
   },
   "source": [
    "Throughout the session we will use information from the [Internet Movie Database (IMDb)](https://www.imdb.com/) to illustrate various principles regarding data storage."
   ]
  },
  {
   "cell_type": "markdown",
   "id": "ccc1f7da",
   "metadata": {
    "slideshow": {
     "slide_type": "slide"
    }
   },
   "source": [
    "For this notebook, we will use a [google sheets](https://docs.google.com/spreadsheets/d/1B-C7uJFrVNGpAXsGE6_xymfFVSKhwnIsI_RewkkmGa0/edit?usp=sharing) spreadsheet to examine this data (later in the week we will explore the same data stored in a database). "
   ]
  },
  {
   "cell_type": "markdown",
   "id": "3d0e4d76",
   "metadata": {
    "slideshow": {
     "slide_type": "subslide"
    }
   },
   "source": [
    "A quick note on the provenance of this data. The files we have used to populate this data set are from [this website](https://relational.fit.cvut.cz/dataset/IMDb) and it may not be a list of every single movie on IMDb (there are no movies after 2004)."
   ]
  },
  {
   "cell_type": "markdown",
   "id": "3eb22b82",
   "metadata": {
    "slideshow": {
     "slide_type": "slide"
    }
   },
   "source": [
    "**Problem 1a**\n",
    "\n",
    "Open the google sheet.$^\\dagger$ What information is stored in the `movies` sheet of this file? \n",
    "\n",
    "How many movies are listed? "
   ]
  },
  {
   "cell_type": "markdown",
   "id": "57b0075a",
   "metadata": {
    "slideshow": {
     "slide_type": "subslide"
    }
   },
   "source": [
    "$^\\dagger$Note – the link points to a \"view\" of the data, you may find it useful to copy the file so that you have write access. "
   ]
  },
  {
   "cell_type": "code",
   "execution_count": 25,
   "id": "b1959076",
   "metadata": {},
   "outputs": [
    {
     "name": "stdout",
     "output_type": "stream",
     "text": [
      "388269 388269 350274\n"
     ]
    },
    {
     "data": {
      "text/html": [
       "<div>\n",
       "<style scoped>\n",
       "    .dataframe tbody tr th:only-of-type {\n",
       "        vertical-align: middle;\n",
       "    }\n",
       "\n",
       "    .dataframe tbody tr th {\n",
       "        vertical-align: top;\n",
       "    }\n",
       "\n",
       "    .dataframe thead th {\n",
       "        text-align: right;\n",
       "    }\n",
       "</style>\n",
       "<table border=\"1\" class=\"dataframe\">\n",
       "  <thead>\n",
       "    <tr style=\"text-align: right;\">\n",
       "      <th></th>\n",
       "      <th>id</th>\n",
       "      <th>name</th>\n",
       "      <th>year</th>\n",
       "      <th>rank</th>\n",
       "    </tr>\n",
       "  </thead>\n",
       "  <tbody>\n",
       "    <tr>\n",
       "      <th>0</th>\n",
       "      <td>0</td>\n",
       "      <td>#28</td>\n",
       "      <td>2002</td>\n",
       "      <td>NaN</td>\n",
       "    </tr>\n",
       "    <tr>\n",
       "      <th>1</th>\n",
       "      <td>1</td>\n",
       "      <td>#7 Train: An Immigrant Journey, The</td>\n",
       "      <td>2000</td>\n",
       "      <td>NaN</td>\n",
       "    </tr>\n",
       "    <tr>\n",
       "      <th>2</th>\n",
       "      <td>2</td>\n",
       "      <td>$</td>\n",
       "      <td>1971</td>\n",
       "      <td>6.4</td>\n",
       "    </tr>\n",
       "    <tr>\n",
       "      <th>3</th>\n",
       "      <td>3</td>\n",
       "      <td>$1,000 Reward</td>\n",
       "      <td>1913</td>\n",
       "      <td>NaN</td>\n",
       "    </tr>\n",
       "    <tr>\n",
       "      <th>4</th>\n",
       "      <td>4</td>\n",
       "      <td>$1,000 Reward</td>\n",
       "      <td>1915</td>\n",
       "      <td>NaN</td>\n",
       "    </tr>\n",
       "    <tr>\n",
       "      <th>...</th>\n",
       "      <td>...</td>\n",
       "      <td>...</td>\n",
       "      <td>...</td>\n",
       "      <td>...</td>\n",
       "    </tr>\n",
       "    <tr>\n",
       "      <th>388264</th>\n",
       "      <td>412316</td>\n",
       "      <td>zem blch krlu</td>\n",
       "      <td>1991</td>\n",
       "      <td>NaN</td>\n",
       "    </tr>\n",
       "    <tr>\n",
       "      <th>388265</th>\n",
       "      <td>412317</td>\n",
       "      <td>rgammk</td>\n",
       "      <td>1995</td>\n",
       "      <td>NaN</td>\n",
       "    </tr>\n",
       "    <tr>\n",
       "      <th>388266</th>\n",
       "      <td>412318</td>\n",
       "      <td>zgnm Leyla</td>\n",
       "      <td>2002</td>\n",
       "      <td>NaN</td>\n",
       "    </tr>\n",
       "    <tr>\n",
       "      <th>388267</th>\n",
       "      <td>412319</td>\n",
       "      <td>Istanbul</td>\n",
       "      <td>1983</td>\n",
       "      <td>NaN</td>\n",
       "    </tr>\n",
       "    <tr>\n",
       "      <th>388268</th>\n",
       "      <td>412320</td>\n",
       "      <td>sterreich</td>\n",
       "      <td>1958</td>\n",
       "      <td>NaN</td>\n",
       "    </tr>\n",
       "  </tbody>\n",
       "</table>\n",
       "<p>388269 rows × 4 columns</p>\n",
       "</div>"
      ],
      "text/plain": [
       "            id                                 name  year  rank\n",
       "0            0                                  #28  2002   NaN\n",
       "1            1  #7 Train: An Immigrant Journey, The  2000   NaN\n",
       "2            2                                    $  1971   6.4\n",
       "3            3                        $1,000 Reward  1913   NaN\n",
       "4            4                        $1,000 Reward  1915   NaN\n",
       "...        ...                                  ...   ...   ...\n",
       "388264  412316                        zem blch krlu  1991   NaN\n",
       "388265  412317                               rgammk  1995   NaN\n",
       "388266  412318                           zgnm Leyla  2002   NaN\n",
       "388267  412319                             Istanbul  1983   NaN\n",
       "388268  412320                            sterreich  1958   NaN\n",
       "\n",
       "[388269 rows x 4 columns]"
      ]
     },
     "execution_count": 25,
     "metadata": {},
     "output_type": "execute_result"
    }
   ],
   "source": [
    "df_movies=pd.read_csv('imdbdata_movies.csv')\n",
    "print(len(df_movies),df_movies['name'].count(),len(df_movies['name'].unique()))\n",
    "df_movies"
   ]
  },
  {
   "cell_type": "markdown",
   "id": "0a6737ba",
   "metadata": {
    "slideshow": {
     "slide_type": "slide"
    }
   },
   "source": [
    "What info is stored in movies? name, ID, year, rank\n",
    "Movies listed: 350274"
   ]
  },
  {
   "cell_type": "markdown",
   "id": "0b998ad2",
   "metadata": {
    "slideshow": {
     "slide_type": "slide"
    }
   },
   "source": [
    "**Problem 1b**\n",
    "\n",
    "What information is stored in the `directors` sheet? \n",
    "\n",
    "How many directors are there? "
   ]
  },
  {
   "cell_type": "code",
   "execution_count": 15,
   "id": "1cd0a089",
   "metadata": {},
   "outputs": [
    {
     "name": "stdout",
     "output_type": "stream",
     "text": [
      "# of directors: 86880\n"
     ]
    },
    {
     "data": {
      "text/html": [
       "<div>\n",
       "<style scoped>\n",
       "    .dataframe tbody tr th:only-of-type {\n",
       "        vertical-align: middle;\n",
       "    }\n",
       "\n",
       "    .dataframe tbody tr th {\n",
       "        vertical-align: top;\n",
       "    }\n",
       "\n",
       "    .dataframe thead th {\n",
       "        text-align: right;\n",
       "    }\n",
       "</style>\n",
       "<table border=\"1\" class=\"dataframe\">\n",
       "  <thead>\n",
       "    <tr style=\"text-align: right;\">\n",
       "      <th></th>\n",
       "      <th>id</th>\n",
       "      <th>first_name</th>\n",
       "      <th>last_name</th>\n",
       "    </tr>\n",
       "  </thead>\n",
       "  <tbody>\n",
       "    <tr>\n",
       "      <th>0</th>\n",
       "      <td>1</td>\n",
       "      <td>Todd</td>\n",
       "      <td>1</td>\n",
       "    </tr>\n",
       "    <tr>\n",
       "      <th>1</th>\n",
       "      <td>2</td>\n",
       "      <td>Les</td>\n",
       "      <td>12 Poissons</td>\n",
       "    </tr>\n",
       "    <tr>\n",
       "      <th>2</th>\n",
       "      <td>3</td>\n",
       "      <td>Lejaren</td>\n",
       "      <td>a'Hiller</td>\n",
       "    </tr>\n",
       "    <tr>\n",
       "      <th>3</th>\n",
       "      <td>4</td>\n",
       "      <td>Nian</td>\n",
       "      <td>A</td>\n",
       "    </tr>\n",
       "    <tr>\n",
       "      <th>4</th>\n",
       "      <td>5</td>\n",
       "      <td>Khairiya</td>\n",
       "      <td>A-Mansour</td>\n",
       "    </tr>\n",
       "    <tr>\n",
       "      <th>...</th>\n",
       "      <td>...</td>\n",
       "      <td>...</td>\n",
       "      <td>...</td>\n",
       "    </tr>\n",
       "    <tr>\n",
       "      <th>86875</th>\n",
       "      <td>88797</td>\n",
       "      <td>Yusuf</td>\n",
       "      <td>Ünal</td>\n",
       "    </tr>\n",
       "    <tr>\n",
       "      <th>86876</th>\n",
       "      <td>88798</td>\n",
       "      <td>Ahmet</td>\n",
       "      <td>Ündag</td>\n",
       "    </tr>\n",
       "    <tr>\n",
       "      <th>86877</th>\n",
       "      <td>88799</td>\n",
       "      <td>Idil</td>\n",
       "      <td>Üner</td>\n",
       "    </tr>\n",
       "    <tr>\n",
       "      <th>86878</th>\n",
       "      <td>88800</td>\n",
       "      <td>Yüksel</td>\n",
       "      <td>Ünsal</td>\n",
       "    </tr>\n",
       "    <tr>\n",
       "      <th>86879</th>\n",
       "      <td>88801</td>\n",
       "      <td>Ahmet</td>\n",
       "      <td>Üstel</td>\n",
       "    </tr>\n",
       "  </tbody>\n",
       "</table>\n",
       "<p>86880 rows × 3 columns</p>\n",
       "</div>"
      ],
      "text/plain": [
       "          id first_name    last_name\n",
       "0          1       Todd            1\n",
       "1          2        Les  12 Poissons\n",
       "2          3    Lejaren     a'Hiller\n",
       "3          4       Nian            A\n",
       "4          5   Khairiya    A-Mansour\n",
       "...      ...        ...          ...\n",
       "86875  88797      Yusuf         Ünal\n",
       "86876  88798      Ahmet        Ündag\n",
       "86877  88799       Idil         Üner\n",
       "86878  88800     Yüksel        Ünsal\n",
       "86879  88801      Ahmet        Üstel\n",
       "\n",
       "[86880 rows x 3 columns]"
      ]
     },
     "execution_count": 15,
     "metadata": {},
     "output_type": "execute_result"
    }
   ],
   "source": [
    "df_directors=pd.read_csv('imdbdata_directors.csv')\n",
    "print('# of directors:',len(df_directors))\n",
    "df_directors"
   ]
  },
  {
   "cell_type": "markdown",
   "id": "afdecb03",
   "metadata": {
    "slideshow": {
     "slide_type": "slide"
    }
   },
   "source": [
    "Contents: id, first_name, last_name\n",
    "No. of directors: 86,880"
   ]
  },
  {
   "cell_type": "markdown",
   "id": "5d6fa250",
   "metadata": {
    "slideshow": {
     "slide_type": "slide"
    }
   },
   "source": [
    "**Problem 1c**\n",
    "\n",
    "What information is stored in the `movies_directors` sheet?\n",
    "\n",
    "How many rows are there? Does this make sense? Why?"
   ]
  },
  {
   "cell_type": "code",
   "execution_count": 26,
   "id": "d66ff369",
   "metadata": {},
   "outputs": [
    {
     "name": "stdout",
     "output_type": "stream",
     "text": [
      "total rows 371180 unique movie ids 315702 unique directors 85794\n"
     ]
    },
    {
     "data": {
      "text/html": [
       "<div>\n",
       "<style scoped>\n",
       "    .dataframe tbody tr th:only-of-type {\n",
       "        vertical-align: middle;\n",
       "    }\n",
       "\n",
       "    .dataframe tbody tr th {\n",
       "        vertical-align: top;\n",
       "    }\n",
       "\n",
       "    .dataframe thead th {\n",
       "        text-align: right;\n",
       "    }\n",
       "</style>\n",
       "<table border=\"1\" class=\"dataframe\">\n",
       "  <thead>\n",
       "    <tr style=\"text-align: right;\">\n",
       "      <th></th>\n",
       "      <th>director_id</th>\n",
       "      <th>movie_id</th>\n",
       "    </tr>\n",
       "  </thead>\n",
       "  <tbody>\n",
       "    <tr>\n",
       "      <th>0</th>\n",
       "      <td>1</td>\n",
       "      <td>378879</td>\n",
       "    </tr>\n",
       "    <tr>\n",
       "      <th>1</th>\n",
       "      <td>2</td>\n",
       "      <td>281325</td>\n",
       "    </tr>\n",
       "    <tr>\n",
       "      <th>2</th>\n",
       "      <td>3</td>\n",
       "      <td>30621</td>\n",
       "    </tr>\n",
       "    <tr>\n",
       "      <th>3</th>\n",
       "      <td>3</td>\n",
       "      <td>304743</td>\n",
       "    </tr>\n",
       "    <tr>\n",
       "      <th>4</th>\n",
       "      <td>4</td>\n",
       "      <td>60570</td>\n",
       "    </tr>\n",
       "    <tr>\n",
       "      <th>...</th>\n",
       "      <td>...</td>\n",
       "      <td>...</td>\n",
       "    </tr>\n",
       "    <tr>\n",
       "      <th>371175</th>\n",
       "      <td>88797</td>\n",
       "      <td>172648</td>\n",
       "    </tr>\n",
       "    <tr>\n",
       "      <th>371176</th>\n",
       "      <td>88798</td>\n",
       "      <td>350996</td>\n",
       "    </tr>\n",
       "    <tr>\n",
       "      <th>371177</th>\n",
       "      <td>88799</td>\n",
       "      <td>189713</td>\n",
       "    </tr>\n",
       "    <tr>\n",
       "      <th>371178</th>\n",
       "      <td>88800</td>\n",
       "      <td>105513</td>\n",
       "    </tr>\n",
       "    <tr>\n",
       "      <th>371179</th>\n",
       "      <td>88801</td>\n",
       "      <td>97098</td>\n",
       "    </tr>\n",
       "  </tbody>\n",
       "</table>\n",
       "<p>371180 rows × 2 columns</p>\n",
       "</div>"
      ],
      "text/plain": [
       "        director_id  movie_id\n",
       "0                 1    378879\n",
       "1                 2    281325\n",
       "2                 3     30621\n",
       "3                 3    304743\n",
       "4                 4     60570\n",
       "...             ...       ...\n",
       "371175        88797    172648\n",
       "371176        88798    350996\n",
       "371177        88799    189713\n",
       "371178        88800    105513\n",
       "371179        88801     97098\n",
       "\n",
       "[371180 rows x 2 columns]"
      ]
     },
     "execution_count": 26,
     "metadata": {},
     "output_type": "execute_result"
    }
   ],
   "source": [
    "df_mov_directors=pd.read_csv('imdbdata_movies_directors.csv')\n",
    "print('total rows',len(df_mov_directors['movie_id']),\\\n",
    "      'unique movie ids',len(df_mov_directors['movie_id'].unique()),\n",
    "      'unique directors',len(df_mov_directors['director_id'].unique()),\n",
    "     )\n",
    "df_mov_directors"
   ]
  },
  {
   "cell_type": "markdown",
   "id": "001d78e9",
   "metadata": {
    "slideshow": {
     "slide_type": "slide"
    }
   },
   "source": [
    "Contents: director_id, movie_id\n",
    "Rows: 371,180\n",
    "Unique movies: 315,702\n",
    "Unique directors: 85,794\n",
    "Does this make sense?: Yes, b/c 1 movie can have more than 1 director, and 1 director can direct more than 1 movie."
   ]
  },
  {
   "cell_type": "markdown",
   "id": "ea5e8ce8",
   "metadata": {
    "slideshow": {
     "slide_type": "slide"
    }
   },
   "source": [
    "**Problem 1d**\n",
    "\n",
    "Confirm your column identifications in **1c** by finding your favorite movie and making sure `movies_directors` correctly matches it with the proper director."
   ]
  },
  {
   "cell_type": "code",
   "execution_count": 48,
   "id": "96748072",
   "metadata": {},
   "outputs": [
    {
     "name": "stdout",
     "output_type": "stream",
     "text": [
      "movie_id [163085] director_id [62180]\n"
     ]
    }
   ],
   "source": [
    "\n",
    "movie_id      = df_movies[(df_movies['name']=='Istanbul') &\n",
    "                          (df_movies['year']==1957)]['id'].values\n",
    "director_id   = df_mov_directors[df_mov_directors['movie_id']==movie_id[0]]['director_id'].values\n",
    "director_name = df_directors[df_directors['id']==director_id[0]].values\n",
    "print('movie_id',movie_id,'director_id',director_id)\n",
    "\n",
    "\n"
   ]
  },
  {
   "cell_type": "markdown",
   "id": "7f5760b2",
   "metadata": {
    "slideshow": {
     "slide_type": "slide"
    }
   },
   "source": [
    "Yes, it matches :)"
   ]
  },
  {
   "cell_type": "markdown",
   "id": "3dfbf89f",
   "metadata": {
    "slideshow": {
     "slide_type": "slide"
    }
   },
   "source": [
    "**Problem 1e**\n",
    "\n",
    "What information is stored in the `movies_genres` sheet?\n",
    "\n",
    "How many rows are there? Does this make sense? Why?"
   ]
  },
  {
   "cell_type": "code",
   "execution_count": 51,
   "id": "bbfcc755",
   "metadata": {},
   "outputs": [
    {
     "name": "stdout",
     "output_type": "stream",
     "text": [
      "total rows 395119 unique movie ids 251142\n"
     ]
    },
    {
     "data": {
      "text/html": [
       "<div>\n",
       "<style scoped>\n",
       "    .dataframe tbody tr th:only-of-type {\n",
       "        vertical-align: middle;\n",
       "    }\n",
       "\n",
       "    .dataframe tbody tr th {\n",
       "        vertical-align: top;\n",
       "    }\n",
       "\n",
       "    .dataframe thead th {\n",
       "        text-align: right;\n",
       "    }\n",
       "</style>\n",
       "<table border=\"1\" class=\"dataframe\">\n",
       "  <thead>\n",
       "    <tr style=\"text-align: right;\">\n",
       "      <th></th>\n",
       "      <th>movie_id</th>\n",
       "      <th>genre</th>\n",
       "    </tr>\n",
       "  </thead>\n",
       "  <tbody>\n",
       "    <tr>\n",
       "      <th>0</th>\n",
       "      <td>1</td>\n",
       "      <td>Documentary</td>\n",
       "    </tr>\n",
       "    <tr>\n",
       "      <th>1</th>\n",
       "      <td>1</td>\n",
       "      <td>Short</td>\n",
       "    </tr>\n",
       "    <tr>\n",
       "      <th>2</th>\n",
       "      <td>2</td>\n",
       "      <td>Comedy</td>\n",
       "    </tr>\n",
       "    <tr>\n",
       "      <th>3</th>\n",
       "      <td>2</td>\n",
       "      <td>Crime</td>\n",
       "    </tr>\n",
       "    <tr>\n",
       "      <th>4</th>\n",
       "      <td>5</td>\n",
       "      <td>Western</td>\n",
       "    </tr>\n",
       "    <tr>\n",
       "      <th>...</th>\n",
       "      <td>...</td>\n",
       "      <td>...</td>\n",
       "    </tr>\n",
       "    <tr>\n",
       "      <th>395114</th>\n",
       "      <td>378612</td>\n",
       "      <td>Adventure</td>\n",
       "    </tr>\n",
       "    <tr>\n",
       "      <th>395115</th>\n",
       "      <td>378612</td>\n",
       "      <td>Drama</td>\n",
       "    </tr>\n",
       "    <tr>\n",
       "      <th>395116</th>\n",
       "      <td>378613</td>\n",
       "      <td>Comedy</td>\n",
       "    </tr>\n",
       "    <tr>\n",
       "      <th>395117</th>\n",
       "      <td>378613</td>\n",
       "      <td>Drama</td>\n",
       "    </tr>\n",
       "    <tr>\n",
       "      <th>395118</th>\n",
       "      <td>378614</td>\n",
       "      <td>Comedy</td>\n",
       "    </tr>\n",
       "  </tbody>\n",
       "</table>\n",
       "<p>395119 rows × 2 columns</p>\n",
       "</div>"
      ],
      "text/plain": [
       "        movie_id        genre\n",
       "0              1  Documentary\n",
       "1              1        Short\n",
       "2              2       Comedy\n",
       "3              2        Crime\n",
       "4              5      Western\n",
       "...          ...          ...\n",
       "395114    378612    Adventure\n",
       "395115    378612        Drama\n",
       "395116    378613       Comedy\n",
       "395117    378613        Drama\n",
       "395118    378614       Comedy\n",
       "\n",
       "[395119 rows x 2 columns]"
      ]
     },
     "execution_count": 51,
     "metadata": {},
     "output_type": "execute_result"
    }
   ],
   "source": [
    "df_genre=pd.read_csv('imdbdata_movies_genres.csv')\n",
    "print('total rows',len(df_genre['movie_id']),\\\n",
    "      'unique movie ids',len(df_genre['movie_id'].unique())\n",
    "     )\n",
    "df_genre\n"
   ]
  },
  {
   "cell_type": "markdown",
   "id": "a225e9a5",
   "metadata": {
    "slideshow": {
     "slide_type": "slide"
    }
   },
   "source": [
    "Contents: movie_id, genre\n",
    "No. of rows: 395,119\n",
    "No. of unique movie ids: 251,142\n",
    "Does it make sense: yes, b/c a movie can have more than 1 genre"
   ]
  },
  {
   "cell_type": "markdown",
   "id": "373aafb4",
   "metadata": {
    "slideshow": {
     "slide_type": "slide"
    }
   },
   "source": [
    "## Problem 2) Connections"
   ]
  },
  {
   "cell_type": "markdown",
   "id": "6bbaf49d",
   "metadata": {
    "slideshow": {
     "slide_type": "slide"
    }
   },
   "source": [
    "We started this exercise with a goal of being efficient. And yet, the data have been organized across 4 different files (each sheet is effectively a unique csv file).  "
   ]
  },
  {
   "cell_type": "markdown",
   "id": "0d56e699",
   "metadata": {
    "slideshow": {
     "slide_type": "slide"
    }
   },
   "source": [
    "**Problem 2a**\n",
    "\n",
    "If we wanted to store all the data in a single sheet, how many rows would we need?"
   ]
  },
  {
   "cell_type": "markdown",
   "id": "41c182fd",
   "metadata": {
    "slideshow": {
     "slide_type": "slide"
    }
   },
   "source": [
    "Rows needed would be the no. of rows in df_genre table (since it has the most no. of rows)."
   ]
  },
  {
   "cell_type": "markdown",
   "id": "4d577b40",
   "metadata": {
    "slideshow": {
     "slide_type": "slide"
    }
   },
   "source": [
    "**Problem 2b**\n",
    "\n",
    "Supposing we did convert everything to a single sheet – how many columns would you need to store all the information in a single sheet? "
   ]
  },
  {
   "cell_type": "markdown",
   "id": "87fb762a",
   "metadata": {
    "slideshow": {
     "slide_type": "slide"
    }
   },
   "source": [
    "*Think about this for at least 30 sec, but you do not have to write down a full answer*\n",
    "\n",
    "\n",
    "movie_id, movie_name, director_id (x N rows), genre (x M rows), year, rank"
   ]
  },
  {
   "cell_type": "markdown",
   "id": "de5dc057",
   "metadata": {
    "slideshow": {
     "slide_type": "slide"
    }
   },
   "source": [
    "**Problem 2c**\n",
    "\n",
    "Which has fewer total entries (the combination of a column and a row makes 1 entry) – all the data in one sheet, or the data spread across 4 sheets? "
   ]
  },
  {
   "cell_type": "code",
   "execution_count": 57,
   "id": "15659b1a",
   "metadata": {},
   "outputs": [
    {
     "data": {
      "text/plain": [
       "3346314"
      ]
     },
     "execution_count": 57,
     "metadata": {},
     "output_type": "execute_result"
    }
   ],
   "source": [
    "cell_no=0\n",
    "for i in [df_movies.shape,df_directors.shape,df_mov_directors.shape,df_genre.shape]:\n",
    "    cell_no+=i[0]*i[1]\n",
    "cell_no"
   ]
  },
  {
   "cell_type": "code",
   "execution_count": 61,
   "id": "0e58fbe6",
   "metadata": {},
   "outputs": [
    {
     "data": {
      "text/html": [
       "<div>\n",
       "<style scoped>\n",
       "    .dataframe tbody tr th:only-of-type {\n",
       "        vertical-align: middle;\n",
       "    }\n",
       "\n",
       "    .dataframe tbody tr th {\n",
       "        vertical-align: top;\n",
       "    }\n",
       "\n",
       "    .dataframe thead th {\n",
       "        text-align: right;\n",
       "    }\n",
       "</style>\n",
       "<table border=\"1\" class=\"dataframe\">\n",
       "  <thead>\n",
       "    <tr style=\"text-align: right;\">\n",
       "      <th></th>\n",
       "      <th>movie_id</th>\n",
       "      <th>genre</th>\n",
       "    </tr>\n",
       "  </thead>\n",
       "  <tbody>\n",
       "    <tr>\n",
       "      <th>0</th>\n",
       "      <td>1</td>\n",
       "      <td>Documentary</td>\n",
       "    </tr>\n",
       "    <tr>\n",
       "      <th>1</th>\n",
       "      <td>1</td>\n",
       "      <td>Short</td>\n",
       "    </tr>\n",
       "    <tr>\n",
       "      <th>2</th>\n",
       "      <td>2</td>\n",
       "      <td>Comedy</td>\n",
       "    </tr>\n",
       "    <tr>\n",
       "      <th>3</th>\n",
       "      <td>2</td>\n",
       "      <td>Crime</td>\n",
       "    </tr>\n",
       "    <tr>\n",
       "      <th>4</th>\n",
       "      <td>5</td>\n",
       "      <td>Western</td>\n",
       "    </tr>\n",
       "    <tr>\n",
       "      <th>...</th>\n",
       "      <td>...</td>\n",
       "      <td>...</td>\n",
       "    </tr>\n",
       "    <tr>\n",
       "      <th>395114</th>\n",
       "      <td>378612</td>\n",
       "      <td>Adventure</td>\n",
       "    </tr>\n",
       "    <tr>\n",
       "      <th>395115</th>\n",
       "      <td>378612</td>\n",
       "      <td>Drama</td>\n",
       "    </tr>\n",
       "    <tr>\n",
       "      <th>395116</th>\n",
       "      <td>378613</td>\n",
       "      <td>Comedy</td>\n",
       "    </tr>\n",
       "    <tr>\n",
       "      <th>395117</th>\n",
       "      <td>378613</td>\n",
       "      <td>Drama</td>\n",
       "    </tr>\n",
       "    <tr>\n",
       "      <th>395118</th>\n",
       "      <td>378614</td>\n",
       "      <td>Comedy</td>\n",
       "    </tr>\n",
       "  </tbody>\n",
       "</table>\n",
       "<p>395119 rows × 2 columns</p>\n",
       "</div>"
      ],
      "text/plain": [
       "        movie_id        genre\n",
       "0              1  Documentary\n",
       "1              1        Short\n",
       "2              2       Comedy\n",
       "3              2        Crime\n",
       "4              5      Western\n",
       "...          ...          ...\n",
       "395114    378612    Adventure\n",
       "395115    378612        Drama\n",
       "395116    378613       Comedy\n",
       "395117    378613        Drama\n",
       "395118    378614       Comedy\n",
       "\n",
       "[395119 rows x 2 columns]"
      ]
     },
     "execution_count": 61,
     "metadata": {},
     "output_type": "execute_result"
    }
   ],
   "source": [
    "df_genre"
   ]
  },
  {
   "cell_type": "markdown",
   "id": "713aa396",
   "metadata": {
    "slideshow": {
     "slide_type": "slide"
    }
   },
   "source": [
    "*write your answer here*"
   ]
  },
  {
   "cell_type": "markdown",
   "id": "322aa0da",
   "metadata": {
    "slideshow": {
     "slide_type": "slide"
    }
   },
   "source": [
    "What we see here is that it is very inefficient/expensive to record \"nothing\". "
   ]
  },
  {
   "cell_type": "markdown",
   "id": "a7877f0e",
   "metadata": {
    "slideshow": {
     "slide_type": "slide"
    }
   },
   "source": [
    "Suppose there is a director that only has one film credit. In the single sheet solution, we need to record that `movie2` = `NULL`, and `movie3` and so on. This information has a cost (storage), AND, there is essentially nothing learned from said information. "
   ]
  },
  {
   "cell_type": "markdown",
   "id": "31d0723f",
   "metadata": {
    "slideshow": {
     "slide_type": "slide"
    }
   },
   "source": [
    "The reason the data have been organized into several sheets (or shall we call them \"data tables\"; yeah! let's call them \"tables\") is that it allows us to store far less information. There are some columns that we otherwise would not need (in a single table there is no need for an `id`, whereas the multi-table solution has at least one id in every table). "
   ]
  },
  {
   "cell_type": "markdown",
   "id": "e14824a8",
   "metadata": {
    "slideshow": {
     "slide_type": "slide"
    }
   },
   "source": [
    "The `id` however is very powerful, as it is what allows the connection between the different tables."
   ]
  },
  {
   "cell_type": "markdown",
   "id": "d06e4a3e",
   "metadata": {
    "slideshow": {
     "slide_type": "slide"
    }
   },
   "source": [
    "**Problem 2d**\n",
    "\n",
    "What is the release year for every movie directed by Martin Scorcese? \n",
    "\n",
    "*Hint* – do not spend more than 10 min working on this problem (you probably should not even spend a full 10 min). "
   ]
  },
  {
   "cell_type": "markdown",
   "id": "7ae014e3",
   "metadata": {
    "slideshow": {
     "slide_type": "slide"
    }
   },
   "source": [
    "*write your answer here*"
   ]
  },
  {
   "cell_type": "markdown",
   "id": "895a7e0f",
   "metadata": {
    "slideshow": {
     "slide_type": "slide"
    }
   },
   "source": [
    "## Problem 3) Leverage"
   ]
  },
  {
   "cell_type": "markdown",
   "id": "514a9758",
   "metadata": {
    "slideshow": {
     "slide_type": "slide"
    }
   },
   "source": [
    "Now that we know why the data has been organized in this way, we can leverage this unique structure in order to learn interesting properties of the data. "
   ]
  },
  {
   "cell_type": "markdown",
   "id": "10f62233",
   "metadata": {
    "slideshow": {
     "slide_type": "slide"
    }
   },
   "source": [
    "**Problem 3a**\n",
    "\n",
    "As a follow-up to a previous problem, according the the IMDb data, which director has directed the most movies?"
   ]
  },
  {
   "cell_type": "markdown",
   "id": "52a16bb0",
   "metadata": {
    "slideshow": {
     "slide_type": "slide"
    }
   },
   "source": [
    "*Hint* – there are probably several ways to figure this out, but I'll note that google sheets provides the ability to calculate aggregated statistics *after* the data have been grouped in a single category. This type of operation exists on many different platforms, and is typically called a `group by`. \n",
    "\n",
    "For google sheets, a `group by` is performed inside the built in `QUERY` function. For example, if you were to type the following into a cell:\n",
    "\n",
    "`=QUERY(A1:D25, \"select B, AVG(D) group by B\", 1)`\n",
    "\n",
    "this would look at all the data in columns A--D, and between rows 1--25, it would then select values in B and \"group the data\" (i.e., suppose this column listed city names and column D listed temperatures, then every entry for the same city would be \"grouped\"), then aggregate statistics are caluclated on D (in this example, the average temperature for the city would be calculated). The `1` at the end indicates a single header row to those being searched.\n",
    "\n",
    "The results would be a column saying city and a column saying temperature, and then the average temp in each city would be recorded. "
   ]
  },
  {
   "cell_type": "markdown",
   "id": "3e6ca2ca",
   "metadata": {
    "slideshow": {
     "slide_type": "slide"
    }
   },
   "source": [
    "*Hint 2* – run your query on only a few rows first to make sure it works in the expected fashion."
   ]
  },
  {
   "cell_type": "markdown",
   "id": "3248cf63",
   "metadata": {},
   "source": [
    "*write your answer here*"
   ]
  },
  {
   "cell_type": "markdown",
   "id": "ce380d67",
   "metadata": {
    "slideshow": {
     "slide_type": "slide"
    }
   },
   "source": [
    "We now know who (according to IMDb) has directed the most movies ever.\n",
    "\n",
    "You should feel a little unsatisfied with this solution, however. While we had a clever way to count the movies by director, we still had to click over to another sheet and scroll (or `cntl+f`) to find the name of the director."
   ]
  },
  {
   "cell_type": "markdown",
   "id": "e9662933",
   "metadata": {
    "slideshow": {
     "slide_type": "slide"
    }
   },
   "source": [
    "It would be far more satisfying to use a single command that returns director name *and* number of movies. \n",
    "\n",
    "To do this in a single command requires a `JOIN` (i.e., data from two different tables/sheets must be combined). "
   ]
  },
  {
   "cell_type": "markdown",
   "id": "6f528b9f",
   "metadata": {
    "slideshow": {
     "slide_type": "slide"
    }
   },
   "source": [
    "Sadly, joins are not possible in google sheets$^\\dagger$ (or at least I've spent a lot of time trying, and I have not found anything close to a useful solution even for the moderate amount of data included in this project).\n",
    "\n",
    "$^\\dagger$If you know how to do this let me know."
   ]
  },
  {
   "cell_type": "markdown",
   "id": "5b2ddec9",
   "metadata": {
    "slideshow": {
     "slide_type": "slide"
    }
   },
   "source": [
    "To understand why the join operation is so powerful, consider the following question:\n",
    "\n",
    "Which drama directed by Martin Scorsese has the highest IMDb rating? "
   ]
  },
  {
   "cell_type": "markdown",
   "id": "a45b7aba",
   "metadata": {
    "slideshow": {
     "slide_type": "slide"
    }
   },
   "source": [
    "This question is not that complex, but, we need to do the following to solve it with our spreadsheet: \n",
    "  1. look up the Scorsese `director_id`\n",
    "  2. use `movies_directors` to look up the movies Scorsese has directed\n",
    "  3. use `movies_genres` to figure out which of those movies are dramas\n",
    "  4. select and sort the subset of Scorsese drama `movies` based on score"
   ]
  },
  {
   "cell_type": "markdown",
   "id": "5f541393",
   "metadata": {
    "slideshow": {
     "slide_type": "slide"
    }
   },
   "source": [
    "That's a lot of clicking around and running multiple operations. \n",
    "\n",
    "We will see several other methods later this week that are capable of `JOIN`ing tables so that this can be accomplished quickly."
   ]
  },
  {
   "cell_type": "markdown",
   "id": "48868d33",
   "metadata": {
    "slideshow": {
     "slide_type": "slide"
    }
   },
   "source": [
    "**Problem 3b**\n",
    "\n",
    "In which year were the most movies made according to IMDb?"
   ]
  },
  {
   "cell_type": "markdown",
   "id": "71d8aafa",
   "metadata": {},
   "source": [
    "*write your answer here*"
   ]
  },
  {
   "cell_type": "markdown",
   "id": "56a386a8",
   "metadata": {
    "slideshow": {
     "slide_type": "slide"
    }
   },
   "source": [
    "## Challenge Problem) Algorithmic Speed"
   ]
  },
  {
   "cell_type": "markdown",
   "id": "d94a06c7",
   "metadata": {
    "slideshow": {
     "slide_type": "slide"
    }
   },
   "source": [
    "For the challenge problem we will consider a different type of efficiency – algorithms.\n",
    "\n",
    "We will demonstrate the types of improvements that are possible even for simple algorithms, like \"sorting\"."
   ]
  },
  {
   "cell_type": "markdown",
   "id": "96ac4280",
   "metadata": {
    "slideshow": {
     "slide_type": "slide"
    }
   },
   "source": [
    "Both `python` and `numpy` have build-in functions that can sort a list or array with a great deal of efficiency. In practice, I would never recommend writing your own function to this end, but we will demonstrate how much time can be saved via \"clever\" implementations of straightforward ideas. "
   ]
  },
  {
   "cell_type": "markdown",
   "id": "bf1e95ab",
   "metadata": {
    "slideshow": {
     "slide_type": "slide"
    }
   },
   "source": [
    "**Challenge a**\n",
    "\n",
    "Write a \"pure\" python function to sort the numbers in a list. Restrict yourself to simple list operations (i.e., do not use `np.sort()`. \n",
    "\n",
    "*Hint* – we can sort a list by creating a new list, `sort_list`, and looping over all elements in the original list and inserting each element in the position where it is greater than the previous value and less than or equal to the next value in `sorted`."
   ]
  },
  {
   "cell_type": "code",
   "execution_count": null,
   "id": "c075c4bc",
   "metadata": {
    "slideshow": {
     "slide_type": "slide"
    }
   },
   "outputs": [],
   "source": [
    "# complete"
   ]
  },
  {
   "cell_type": "markdown",
   "id": "21eaca07",
   "metadata": {
    "slideshow": {
     "slide_type": "slide"
    }
   },
   "source": [
    "**Challenge b**\n",
    "\n",
    "Confirm your algorithm works by running it on the following list: [4, 1, 6, 2, 4, 7, 9, 3, 8]"
   ]
  },
  {
   "cell_type": "code",
   "execution_count": null,
   "id": "03c5b5ca",
   "metadata": {
    "slideshow": {
     "slide_type": "slide"
    }
   },
   "outputs": [],
   "source": [
    "# complete ([4, 1, 6, 2, 4, 7, 9, 3, 8])"
   ]
  },
  {
   "cell_type": "markdown",
   "id": "51e60eca",
   "metadata": {
    "slideshow": {
     "slide_type": "slide"
    }
   },
   "source": [
    "**Challenge c**\n",
    "\n",
    "Create a list with 10000 random numbers. Time how long it takes to sort that list with your algorithm."
   ]
  },
  {
   "cell_type": "code",
   "execution_count": null,
   "id": "384b213a",
   "metadata": {
    "slideshow": {
     "slide_type": "slide"
    }
   },
   "outputs": [],
   "source": [
    "import time\n",
    "\n",
    "np.random.seed(1662)\n",
    "\n",
    "haha = list(np.random.randn(10000))\n",
    "\n",
    "tstart = time.time()\n",
    "# complete\n",
    "tend = time.time()\n",
    "\n",
    "print('It takes {:.4f} s to sort this list'.format(tend-tstart))"
   ]
  },
  {
   "cell_type": "markdown",
   "id": "fdc8665f",
   "metadata": {
    "slideshow": {
     "slide_type": "slide"
    }
   },
   "source": [
    "10000 elements is not that many, and 3 s is a lot of time. In this case the speed of the algorithm is quite slow because we have a nested for loop. As the sorted array becomes larger, we have to again and again consider all the same numbers while looking for the \"right\" place to insert our value. "
   ]
  },
  {
   "cell_type": "markdown",
   "id": "48021ae3",
   "metadata": {
    "slideshow": {
     "slide_type": "slide"
    }
   },
   "source": [
    "We can achieve dramatic improvements with a \"divide and conquer\" strategy. In particular, we will use the [`quicksort`](https://en.wikipedia.org/wiki/Quicksort) algorithm to avoid looking at the same numbers again and again. "
   ]
  },
  {
   "cell_type": "markdown",
   "id": "90742739",
   "metadata": {
    "slideshow": {
     "slide_type": "slide"
    }
   },
   "source": [
    "In brief, `quicksort` does the following: pick a single element of an array/list (called the \"pivot\"), move all values less than the pivot to its right, move all values greater than the pivot to its left.\n",
    "\n",
    "The pivot is now in its correct position within the array. We can now perform the same operation on the left and on the right to recursively move everything into the correct order. Unlike the \"simple\" method, we do not need to \"look at\" the same values again and again and again."
   ]
  },
  {
   "cell_type": "markdown",
   "id": "b3f3bd96",
   "metadata": {
    "slideshow": {
     "slide_type": "slide"
    }
   },
   "source": [
    "**Challenge d**\n",
    "\n",
    "Write a recursive `quicksort` algorithm to sort values in a list/array. \n",
    "\n",
    "*Hint* – use the last element of the array as the \"pivot\" each time you separate the data into high and low values."
   ]
  },
  {
   "cell_type": "code",
   "execution_count": null,
   "id": "1235cfd1",
   "metadata": {
    "slideshow": {
     "slide_type": "slide"
    }
   },
   "outputs": [],
   "source": [
    "# complete"
   ]
  },
  {
   "cell_type": "markdown",
   "id": "e0b9745c",
   "metadata": {
    "slideshow": {
     "slide_type": "slide"
    }
   },
   "source": [
    "**Challenge e**\n",
    "\n",
    "Confirm your algorithm works by sorting the short list [4, 1, 6, 2, 4, 7, 9, 3, 8]."
   ]
  },
  {
   "cell_type": "code",
   "execution_count": null,
   "id": "0dd28622",
   "metadata": {
    "slideshow": {
     "slide_type": "slide"
    }
   },
   "outputs": [],
   "source": [
    "short_list = [4, 1, 6, 2, 4, 7, 9, 3, 8]\n",
    "# complete"
   ]
  },
  {
   "cell_type": "markdown",
   "id": "6d2788f6",
   "metadata": {
    "slideshow": {
     "slide_type": "slide"
    }
   },
   "source": [
    "**Challenge f**\n",
    "\n",
    "Time how long it take to sort the random number array using `quicksort`."
   ]
  },
  {
   "cell_type": "code",
   "execution_count": null,
   "id": "e7d6b749",
   "metadata": {
    "slideshow": {
     "slide_type": "slide"
    }
   },
   "outputs": [],
   "source": [
    "meh = haha.copy()\n",
    "tstart = time.time()\n",
    "# complete\n",
    "tend = time.time()\n",
    "\n",
    "print('It takes {:.4f} s to sort this list'.format(tend-tstart))"
   ]
  },
  {
   "cell_type": "markdown",
   "id": "1006d8cd",
   "metadata": {
    "slideshow": {
     "slide_type": "slide"
    }
   },
   "source": [
    "A factor of 100 improvement! "
   ]
  },
  {
   "cell_type": "markdown",
   "id": "6040cfaa",
   "metadata": {
    "slideshow": {
     "slide_type": "slide"
    }
   },
   "source": [
    "**Challenge g**\n",
    "\n",
    "Time how long it takes to sort the random number array using `np.sort()`. "
   ]
  },
  {
   "cell_type": "code",
   "execution_count": null,
   "id": "991da431",
   "metadata": {
    "slideshow": {
     "slide_type": "slide"
    }
   },
   "outputs": [],
   "source": [
    "meh = haha.copy()\n",
    "\n",
    "tstart = time.time()\n",
    "# complete\n",
    "tend = time.time()\n",
    "\n",
    "print('It takes {:.4f} s to sort this list'.format(tend-tstart))"
   ]
  },
  {
   "cell_type": "markdown",
   "id": "ca55a730",
   "metadata": {
    "slideshow": {
     "slide_type": "slide"
    }
   },
   "source": [
    "While your solution was quite clever, under the hood `numpy` is still another factor of 5 faster! \n",
    "\n",
    "The upside from this exercise – every time you find yourself creating a for loop, ask the question do I really need a for loop. For the most part you will always be working with software that is already optimized but the for loops that you write may not be..."
   ]
  }
 ],
 "metadata": {
  "celltoolbar": "Slideshow",
  "kernelspec": {
   "display_name": "Python 3 (ipykernel)",
   "language": "python",
   "name": "python3"
  },
  "language_info": {
   "codemirror_mode": {
    "name": "ipython",
    "version": 3
   },
   "file_extension": ".py",
   "mimetype": "text/x-python",
   "name": "python",
   "nbconvert_exporter": "python",
   "pygments_lexer": "ipython3",
   "version": "3.7.11"
  },
  "livereveal": {
   "height": 768,
   "scroll": true,
   "start_slideshow_at": "selected",
   "theme": "solarized",
   "width": 1024
  }
 },
 "nbformat": 4,
 "nbformat_minor": 5
}
